{
 "cells": [
  {
   "attachments": {},
   "cell_type": "markdown",
   "metadata": {},
   "source": [
    "## ROC\n",
    "### The Receiver Operator Characteristic (ROC) curve is an evaluation metric for binary classification problems. It is a probability curve that plots the TPR against FPR at various threshold values and essentially separates the ‘signal’ from the ‘noise’.\n",
    "## AUC\n",
    "### The Area Under the Curve (AUC) is the measure of the ability of a classifier to distinguish between classes and is used as a summary of the ROC curve.\n",
    "### The higher the AUC, the better the performance of the model at distinguishing between the positive and negative classes.\n"
   ]
  },
  {
   "cell_type": "markdown",
   "metadata": {},
   "source": [
    "### Problem Statement\n",
    "#### We have a some data related to customer age and whether that customer has taken insurance or not. We need to make a model based on these data that will get the customer age as input and predict whether that customer will buy insurance or not. This is a typical binary classification problem i.e. output will be 0 or 1 ( 0 : Customer will not take insurance and 1: Customer will take insurance). Here we will build two models LogisticRegression and KNN and test the performance of both the model based on AUC_ROC curve."
   ]
  },
  {
   "cell_type": "code",
   "execution_count": 1,
   "metadata": {},
   "outputs": [],
   "source": [
    "#This is edited to show demo to students\n",
    "#importing necessary modules\n",
    "import pandas as pd\n",
    "from sklearn.model_selection import train_test_split\n",
    "from sklearn.linear_model import LogisticRegression\n",
    "from sklearn.neighbors import KNeighborsClassifier\n",
    "from matplotlib import pyplot as plt\n",
    "from sklearn.metrics import roc_curve\n",
    "from sklearn.metrics import roc_auc_score\n",
    "from sklearn.metrics import confusion_matrix\n",
    "from sklearn.metrics import classification_report"
   ]
  },
  {
   "cell_type": "code",
   "execution_count": 2,
   "metadata": {},
   "outputs": [],
   "source": [
    "#read insurance_data.csv file. \n",
    "df = pd.read_csv(\"insurance_data.csv\")"
   ]
  },
  {
   "cell_type": "code",
   "execution_count": 3,
   "metadata": {},
   "outputs": [
    {
     "data": {
      "text/html": [
       "<div>\n",
       "<style scoped>\n",
       "    .dataframe tbody tr th:only-of-type {\n",
       "        vertical-align: middle;\n",
       "    }\n",
       "\n",
       "    .dataframe tbody tr th {\n",
       "        vertical-align: top;\n",
       "    }\n",
       "\n",
       "    .dataframe thead th {\n",
       "        text-align: right;\n",
       "    }\n",
       "</style>\n",
       "<table border=\"1\" class=\"dataframe\">\n",
       "  <thead>\n",
       "    <tr style=\"text-align: right;\">\n",
       "      <th></th>\n",
       "      <th>age</th>\n",
       "      <th>bought_insurance</th>\n",
       "    </tr>\n",
       "  </thead>\n",
       "  <tbody>\n",
       "    <tr>\n",
       "      <th>0</th>\n",
       "      <td>22</td>\n",
       "      <td>0</td>\n",
       "    </tr>\n",
       "    <tr>\n",
       "      <th>1</th>\n",
       "      <td>25</td>\n",
       "      <td>0</td>\n",
       "    </tr>\n",
       "    <tr>\n",
       "      <th>2</th>\n",
       "      <td>47</td>\n",
       "      <td>1</td>\n",
       "    </tr>\n",
       "    <tr>\n",
       "      <th>3</th>\n",
       "      <td>52</td>\n",
       "      <td>0</td>\n",
       "    </tr>\n",
       "    <tr>\n",
       "      <th>4</th>\n",
       "      <td>46</td>\n",
       "      <td>1</td>\n",
       "    </tr>\n",
       "  </tbody>\n",
       "</table>\n",
       "</div>"
      ],
      "text/plain": [
       "   age  bought_insurance\n",
       "0   22                 0\n",
       "1   25                 0\n",
       "2   47                 1\n",
       "3   52                 0\n",
       "4   46                 1"
      ]
     },
     "execution_count": 3,
     "metadata": {},
     "output_type": "execute_result"
    }
   ],
   "source": [
    "#display first five rows \n",
    "df.head()"
   ]
  },
  {
   "cell_type": "code",
   "execution_count": 4,
   "metadata": {},
   "outputs": [
    {
     "data": {
      "text/plain": [
       "Text(0, 0.5, 'Insurance Taken')"
      ]
     },
     "execution_count": 4,
     "metadata": {},
     "output_type": "execute_result"
    },
    {
     "data": {
      "image/png": "[encoded data removed]",
      "text/plain": [
       "<Figure size 432x288 with 1 Axes>"
      ]
     },
     "metadata": {
      "needs_background": "light"
     },
     "output_type": "display_data"
    }
   ],
   "source": [
    "#check the distribution using Scatter Plot\n",
    "plt.scatter(df.age,df.bought_insurance,marker='+',color='red')\n",
    "plt.xlabel(\"Age\")\n",
    "plt.ylabel(\"Insurance Taken\")"
   ]
  },
  {
   "cell_type": "code",
   "execution_count": 5,
   "metadata": {},
   "outputs": [],
   "source": [
    "# split into train-test sets\n",
    "X_train, X_test, y_train, y_test = train_test_split(df[['age']],df.bought_insurance,train_size=0.7,random_state=101)"
   ]
  },
  {
   "cell_type": "code",
   "execution_count": 6,
   "metadata": {},
   "outputs": [],
   "source": [
    "#create the instance of LogisticRegression and KNN\n",
    "# logistic regression\n",
    "model1 = LogisticRegression()\n",
    "# knn\n",
    "model2 = KNeighborsClassifier(n_neighbors=4)"
   ]
  },
  {
   "cell_type": "code",
   "execution_count": 7,
   "metadata": {},
   "outputs": [
    {
     "data": {
      "text/plain": [
       "KNeighborsClassifier(n_neighbors=4)"
      ]
     },
     "execution_count": 7,
     "metadata": {},
     "output_type": "execute_result"
    }
   ],
   "source": [
    "# fit model\n",
    "model1.fit(X_train, y_train)\n",
    "model2.fit(X_train, y_train)"
   ]
  },
  {
   "cell_type": "code",
   "execution_count": 8,
   "metadata": {},
   "outputs": [
    {
     "name": "stdout",
     "output_type": "stream",
     "text": [
      "Prediction Probabilities for Logistic Regression\n",
      "[[0.84916248 0.15083752]\n",
      " [0.88645458 0.11354542]\n",
      " [0.04005405 0.95994595]\n",
      " [0.10013656 0.89986344]\n",
      " [0.17628117 0.82371883]\n",
      " [0.32644682 0.67355318]\n",
      " [0.84916248 0.15083752]\n",
      " [0.93755482 0.06244518]\n",
      " [0.06379393 0.93620607]\n",
      " [0.93755482 0.06244518]\n",
      " [0.91544488 0.08455512]\n",
      " [0.94646894 0.05353106]\n",
      " [0.05469851 0.94530149]\n",
      " [0.91544488 0.08455512]]\n",
      "Waiting....\n",
      "Prediction Probabilities for KNN\n",
      "[[0.75 0.25]\n",
      " [0.75 0.25]\n",
      " [0.25 0.75]\n",
      " [0.   1.  ]\n",
      " [0.   1.  ]\n",
      " [0.   1.  ]\n",
      " [0.75 0.25]\n",
      " [1.   0.  ]\n",
      " [0.   1.  ]\n",
      " [1.   0.  ]\n",
      " [1.   0.  ]\n",
      " [1.   0.  ]\n",
      " [0.25 0.75]\n",
      " [1.   0.  ]]\n",
      "Waiting....\n"
     ]
    },
    {
     "data": {
      "text/plain": [
       "''"
      ]
     },
     "execution_count": 8,
     "metadata": {},
     "output_type": "execute_result"
    }
   ],
   "source": [
    "#instead of predicting the target as 0 or 1, here we will predict the probability of being 1.\n",
    "# predict probabilities\n",
    "pred_prob1 = model1.predict_proba(X_test)\n",
    "pred_prob2 = model2.predict_proba(X_test)\n",
    "print(\"Prediction Probabilities for Logistic Regression\") \n",
    "print(pred_prob1)\n",
    "input(\"Waiting....\")\n",
    "print(\"Prediction Probabilities for KNN\") \n",
    "print(pred_prob2)\n",
    "input(\"Waiting....\")"
   ]
  },
  {
   "cell_type": "code",
   "execution_count": 9,
   "metadata": {},
   "outputs": [],
   "source": [
    "#random model\n",
    "# roc curve for tpr = fpr \n",
    "random_probs = [0 for i in range(len(y_test))]\n",
    "p_fpr, p_tpr, thresh = roc_curve(y_test, random_probs, pos_label=1)"
   ]
  },
  {
   "cell_type": "code",
   "execution_count": 10,
   "metadata": {},
   "outputs": [
    {
     "name": "stdout",
     "output_type": "stream",
     "text": [
      "FPR1 :  [0.         0.         0.22222222 0.22222222 0.33333333 0.44444444\n",
      " 0.88888889 1.        ]  TPR1 :  [0.  0.2 0.2 0.8 1.  1.  1.  1. ]  Threshold 1 :  [1.95994595 0.95994595 0.93620607 0.67355318 0.15083752 0.11354542\n",
      " 0.06244518 0.05353106]\n",
      "FPR2 :  [0.         0.11111111 0.22222222 0.44444444 1.        ]  TPR2 :  [0.  0.6 0.8 1.  1. ]  Threshold 2 :  [2.   1.   0.75 0.25 0.  ]\n",
      "FPR Random :  [0. 1.]  TPR Random :  [0. 1.]  Threshold  :  [1 0]\n"
     ]
    }
   ],
   "source": [
    "#fpr, tpr on different threshold value for our models\n",
    "from sklearn.metrics import roc_curve\n",
    "fpr1, tpr1, thresh1 = roc_curve(y_test, pred_prob1[:,1], pos_label=1)\n",
    "fpr2, tpr2, thresh2 = roc_curve(y_test, pred_prob2[:,1], pos_label=1)\n",
    "print(\"FPR1 : \",fpr1,\" TPR1 : \",tpr1,\" Threshold 1 : \",thresh1)\n",
    "print(\"FPR2 : \",fpr2,\" TPR2 : \",tpr2,\" Threshold 2 : \",thresh2)\n",
    "print(\"FPR Random : \",p_fpr,\" TPR Random : \",p_tpr,\" Threshold  : \",thresh)"
   ]
  },
  {
   "cell_type": "code",
   "execution_count": 11,
   "metadata": {},
   "outputs": [
    {
     "name": "stdout",
     "output_type": "stream",
     "text": [
      "0.8111111111111111 0.8666666666666667\n"
     ]
    }
   ],
   "source": [
    "#print auc score\n",
    "from sklearn.metrics import roc_auc_score\n",
    "# auc scores\n",
    "auc_score1 = roc_auc_score(y_test, pred_prob1[:,1])\n",
    "auc_score2 = roc_auc_score(y_test, pred_prob2[:,1])\n",
    "\n",
    "print(auc_score1, auc_score2)"
   ]
  },
  {
   "cell_type": "code",
   "execution_count": 12,
   "metadata": {},
   "outputs": [
    {
     "data": {
      "image/png": "[encoded data removed]",
      "text/plain": [
       "<Figure size 576x396 with 1 Axes>"
      ]
     },
     "metadata": {},
     "output_type": "display_data"
    }
   ],
   "source": [
    "#plot the roc curve of three models i.e. Logistic Regression, KNN and Random Model\n",
    "plt.style.use('seaborn')\n",
    "# plot roc curves\n",
    "plt.plot(fpr1, tpr1,marker=\"^\",markersize=10, linestyle='--',color='orange', label='Logistic Regression')\n",
    "plt.plot(fpr2, tpr2,marker=\"o\", linestyle='--',color='green', label='KNN')\n",
    "plt.plot(p_fpr, p_tpr, linestyle='--', color='blue')\n",
    "# title\n",
    "plt.title('ROC curve')\n",
    "# x label\n",
    "plt.xlabel('False Positive Rate')\n",
    "# y label\n",
    "plt.ylabel('True Positive rate')\n",
    "plt.legend(loc='best')\n",
    "plt.savefig('ROC',dpi=300)"
   ]
  },
  {
   "cell_type": "code",
   "execution_count": 13,
   "metadata": {},
   "outputs": [
    {
     "name": "stdout",
     "output_type": "stream",
     "text": [
      "Original\n",
      "1     0\n",
      "44    0\n",
      "33    1\n",
      "14    1\n",
      "41    1\n",
      "22    1\n",
      "16    1\n",
      "18    0\n",
      "3     0\n",
      "36    0\n",
      "20    0\n",
      "37    0\n",
      "27    0\n",
      "38    0\n",
      "Name: bought_insurance, dtype: int64\n",
      "Predicted\n",
      "[1, 0, 1, 1, 1, 1, 1, 0, 1, 0, 0, 0, 1, 0]\n"
     ]
    }
   ],
   "source": [
    "#Looking into the plot and AUC curve we conclude that both model are of equal efficient\n",
    "#Let us consider the logistic regression\n",
    "#Let say True Positive is very important irrespective of False Positive, that means\n",
    "#False positive may be high that is not important\n",
    "#Here the 5th point is the point where True Positive is high and False positive\n",
    "#is also less so we will take the threshold as threshold1=0.15 and predict\n",
    "threshold1=0.15\n",
    "pred1=[]\n",
    "for i in pred_prob1[:,1]:\n",
    "    if i>threshold1:\n",
    "        pred1.append(1)\n",
    "    else:\n",
    "        pred1.append(0)\n",
    "print(\"Original\")\n",
    "print(y_test)\n",
    "print(\"Predicted\")\n",
    "print(pred1)"
   ]
  },
  {
   "cell_type": "code",
   "execution_count": 14,
   "metadata": {},
   "outputs": [
    {
     "name": "stdout",
     "output_type": "stream",
     "text": [
      "[[6 3]\n",
      " [0 5]]\n",
      "              precision    recall  f1-score   support\n",
      "\n",
      "           0       1.00      0.67      0.80         9\n",
      "           1       0.62      1.00      0.77         5\n",
      "\n",
      "    accuracy                           0.79        14\n",
      "   macro avg       0.81      0.83      0.78        14\n",
      "weighted avg       0.87      0.79      0.79        14\n",
      "\n"
     ]
    }
   ],
   "source": [
    "#print the confusion matrix and classification matrix\n",
    "print(confusion_matrix(y_test, pred1))\n",
    "print(classification_report(y_test,pred1))"
   ]
  },
  {
   "cell_type": "code",
   "execution_count": null,
   "metadata": {},
   "outputs": [],
   "source": []
  }
 ],
 "metadata": {
  "kernelspec": {
   "display_name": "Python 3",
   "language": "python",
   "name": "python3"
  },
  "language_info": {
   "codemirror_mode": {
    "name": "ipython",
    "version": 3
   },
   "file_extension": ".py",
   "mimetype": "text/x-python",
   "name": "python",
   "nbconvert_exporter": "python",
   "pygments_lexer": "ipython3",
   "version": "3.8.3"
  }
 },
 "nbformat": 4,
 "nbformat_minor": 4
}
